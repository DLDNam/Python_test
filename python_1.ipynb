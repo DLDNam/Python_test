{
 "cells": [
  {
   "cell_type": "markdown",
   "metadata": {},
   "source": [
    "EX1 \n"
   ]
  },
  {
   "cell_type": "code",
   "execution_count": 56,
   "metadata": {},
   "outputs": [],
   "source": [
    "n = int(input())\n",
    "if (n >1):\n",
    "    num1 = 1\n",
    "    num2 = 1\n",
    "    print(num1)\n",
    "    print(num2)\n",
    "\n",
    "    for i in range(3, n + 1):\n",
    "        fib = num1 + num2\n",
    "        print(fib)\n",
    "        num1 = num2\n",
    "        num2 = fib\n",
    "elif n == 1:\n",
    "    print(1)"
   ]
  },
  {
   "cell_type": "markdown",
   "metadata": {},
   "source": [
    "EX2"
   ]
  },
  {
   "cell_type": "code",
   "execution_count": null,
   "metadata": {},
   "outputs": [
    {
     "name": "stdout",
     "output_type": "stream",
     "text": [
      "TRUE\n"
     ]
    }
   ],
   "source": [
    "st = input()\n",
    "s1 = st[::-1]\n",
    "if st == s1:\n",
    "    print(\"TRUE\")\n",
    "else:\n",
    "    print(\"FALSE\")"
   ]
  },
  {
   "cell_type": "markdown",
   "metadata": {},
   "source": [
    "EX3 \n"
   ]
  },
  {
   "cell_type": "code",
   "execution_count": 1,
   "metadata": {},
   "outputs": [
    {
     "name": "stdout",
     "output_type": "stream",
     "text": [
      "4\n"
     ]
    }
   ],
   "source": [
    "lst = input().split()\n",
    "lst = [int(x) for x in lst]\n",
    "maximum1 = min(lst)\n",
    "maximum2 = max(lst)\n",
    "if maximum1 == maximum2:\n",
    "    print(\"NULL\")\n",
    "else:\n",
    "    for i in lst:\n",
    "        if (maximum1 < i) and (i < maximum2):\n",
    "            maximum1 = i\n",
    "    print(maximum1) "
   ]
  },
  {
   "cell_type": "markdown",
   "metadata": {},
   "source": [
    "EX4"
   ]
  },
  {
   "cell_type": "code",
   "execution_count": null,
   "metadata": {},
   "outputs": [
    {
     "name": "stdout",
     "output_type": "stream",
     "text": [
      "4 8 21 27 32 35 39 50 55 57 63 65 77 85 98 "
     ]
    }
   ],
   "source": [
    "def caculate_sum(x):\n",
    "    sum = 0\n",
    "    for i in range(1,x):\n",
    "        if x % i == 0:\n",
    "            sum += i\n",
    "    return sum\n",
    "    \n",
    "def is_prime(num):\n",
    "    if num < 2:\n",
    "        return False\n",
    "    for i in range(2, int(num ** 0.5) + 1):\n",
    "        if num % i == 0:\n",
    "            return False\n",
    "    return True\n",
    "n = int(input())\n",
    "for i in range(n):\n",
    "    if is_prime(caculate_sum(i))== True :\n",
    "        print(i,end = \" \")\n"
   ]
  },
  {
   "cell_type": "markdown",
   "metadata": {},
   "source": [
    "EX 5"
   ]
  },
  {
   "cell_type": "code",
   "execution_count": null,
   "metadata": {},
   "outputs": [
    {
     "name": "stdout",
     "output_type": "stream",
     "text": [
      "[1, 12, 12, 4, 23, 34, 65, 99]\n"
     ]
    }
   ],
   "source": [
    "def caculate_sum(n):\n",
    "    sum = 0\n",
    "    while n != 0:\n",
    "        sum = sum + n % 10\n",
    "        n = n // 10 \n",
    "    return sum\n",
    "def sort_by_sum(a):\n",
    "    a.sort(key = lambda x:caculate_sum(x))\n",
    "    return a \n",
    "list = input().split()\n",
    "list = [int(x) for x in list]\n",
    "print(sort_by_sum(list))"
   ]
  },
  {
   "cell_type": "code",
   "execution_count": null,
   "metadata": {},
   "outputs": [
    {
     "name": "stdout",
     "output_type": "stream",
     "text": [
      "[1, 12, 12, 4, 23, 34, 65, 99]\n"
     ]
    }
   ],
   "source": [
    "def caculate_sum(n):\n",
    "    sum = 0\n",
    "    while n != 0:\n",
    "        sum = sum + n % 10\n",
    "        n = n // 10 \n",
    "    return sum\n",
    "list = input().split()\n",
    "list = [int(x) for x in list]\n",
    "for i in range(len(list)-1):\n",
    "    for j in range(i+1, len(list)):\n",
    "        if caculate_sum(list[i]) > caculate_sum(list[j]):\n",
    "            list[i], list[j] = list[j], list[i]\n",
    "print(list)"
   ]
  }
 ],
 "metadata": {
  "kernelspec": {
   "display_name": "base",
   "language": "python",
   "name": "python3"
  },
  "language_info": {
   "codemirror_mode": {
    "name": "ipython",
    "version": 3
   },
   "file_extension": ".py",
   "mimetype": "text/x-python",
   "name": "python",
   "nbconvert_exporter": "python",
   "pygments_lexer": "ipython3",
   "version": "3.9.13"
  },
  "orig_nbformat": 4
 },
 "nbformat": 4,
 "nbformat_minor": 2
}
