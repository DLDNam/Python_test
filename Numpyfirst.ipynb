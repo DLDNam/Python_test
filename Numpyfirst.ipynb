{
 "cells": [
  {
   "cell_type": "code",
   "execution_count": 1,
   "metadata": {},
   "outputs": [],
   "source": [
    "import numpy as np\n",
    "import pandas as pd"
   ]
  },
  {
   "cell_type": "code",
   "execution_count": 2,
   "metadata": {},
   "outputs": [
    {
     "data": {
      "text/plain": [
       "array([[1, 3, 4],\n",
       "       [3, 6, 5]])"
      ]
     },
     "execution_count": 2,
     "metadata": {},
     "output_type": "execute_result"
    }
   ],
   "source": [
    "a = np.array([[1,3,4], [3,6,5]])\n",
    "b = np.diag([2,6,7,4])\n",
    "c = np.arange(10).reshape(2,5) #khởi tạo matrix [0;9] và đổi thành matrix 2 dòng 5 cột \n",
    "d = np.full((3,2,2),12) # khởi tạo 3 matrix 2*2 full 12 \n",
    "e = np.array([3,4,5,2])\n",
    "f = np.random.randint(0,10,(4,5)) # Khởi tạo matrix random từ  0 đến 10 shape (4,5)\n",
    "g = np.random.randint(1,10,(1,5))\n",
    "a\n"
   ]
  },
  {
   "cell_type": "code",
   "execution_count": 3,
   "metadata": {},
   "outputs": [],
   "source": [
    "a = np.arange(16).reshape(4,4)\n",
    "b = a[1:4 , 1:4]  # reference variable: lấy giao của dòng [1,4) và hàng [1,4)\n",
    "b[0,0] = 20 #sẽ thay đổi tương   đương vs gtri tham chiếu b[0,0] tương đương với a[1,1]\n",
    "c = a[:2,:2].copy() #ntn khi thay đổi c thì a, b sẽ  ko thay đổi \n"
   ]
  },
  {
   "cell_type": "code",
   "execution_count": 4,
   "metadata": {},
   "outputs": [
    {
     "data": {
      "text/plain": [
       "array([[20,  6,  7],\n",
       "       [ 9, 10, 11],\n",
       "       [13, 14, 15]])"
      ]
     },
     "execution_count": 4,
     "metadata": {},
     "output_type": "execute_result"
    }
   ],
   "source": [
    "b"
   ]
  },
  {
   "cell_type": "code",
   "execution_count": 5,
   "metadata": {},
   "outputs": [
    {
     "data": {
      "text/plain": [
       "2"
      ]
     },
     "execution_count": 5,
     "metadata": {},
     "output_type": "execute_result"
    }
   ],
   "source": [
    "a = np.random.randint(10,100,(5,6))\n",
    "a =  a.transpose() #chuyển dòng thành cột và ngược lại \n",
    "a.ndim #thông báo về chiều của array"
   ]
  },
  {
   "attachments": {},
   "cell_type": "markdown",
   "metadata": {},
   "source": [
    "#lọc data theo ĐK"
   ]
  },
  {
   "cell_type": "code",
   "execution_count": 6,
   "metadata": {},
   "outputs": [],
   "source": [
    "a = np.random.seed(0)\n",
    "a = np.random.randint(2,10000,(10,10))\n",
    "\n",
    "\n"
   ]
  },
  {
   "cell_type": "code",
   "execution_count": 7,
   "metadata": {},
   "outputs": [
    {
     "data": {
      "text/plain": [
       "array([[2734, 9847, 3266, 4861, 9227, 7893, 4375, 5876, 6746, 3470],\n",
       "       [ 707, 2601, 2224, 7770, 2899, 9895,  539, 6218, 6923, 6038],\n",
       "       [2165, 5074, 4853, 7879, 2048, 1873, 7601, 2498, 8293,  757],\n",
       "       [ 799,  661, 3221, 8617, 7458, 3339, 2747, 4737, 8738, 6689],\n",
       "       [ 716, 2294, 8345, 1209, 6174, 8996, 7223, 6023, 3624, 3562],\n",
       "       [8950, 1643, 4986, 4355, 8624, 7252, 4189, 2661, 9783, 2958],\n",
       "       [2253, 4422, 7110, 1073, 5253, 7014, 9398, 3920, 9361, 1686],\n",
       "       [7100, 2959, 4471, 8754, 9799, 5797, 1474, 7265, 7367, 8450],\n",
       "       [6003, 3764, 9010, 2437, 1636,  975, 4466, 8395, 2420, 3457],\n",
       "       [6169, 5821, 6523, 6244, 7744, 9125, 6740, 2789, 7318, 4307]])"
      ]
     },
     "execution_count": 7,
     "metadata": {},
     "output_type": "execute_result"
    }
   ],
   "source": [
    "\n",
    "a"
   ]
  },
  {
   "cell_type": "code",
   "execution_count": 8,
   "metadata": {},
   "outputs": [
    {
     "name": "stdout",
     "output_type": "stream",
     "text": [
      "[[7 8 3 6 6 6]\n",
      " [4 6 8 5 7 9]\n",
      " [3 3 7 5 4 9]\n",
      " [9 3 4 8 4 8]\n",
      " [3 4 7 6 3 6]\n",
      " [8 9 3 5 6 3]]\n",
      "[[3 6 6 6 7 8]\n",
      " [4 5 6 7 8 9]\n",
      " [3 3 4 5 7 9]\n",
      " [3 4 4 8 8 9]\n",
      " [3 3 4 6 6 7]\n",
      " [3 3 5 6 8 9]]\n",
      "[[3 3 3 5 3 3]\n",
      " [3 3 3 5 4 6]\n",
      " [4 4 4 5 4 6]\n",
      " [7 6 7 6 6 8]\n",
      " [8 8 7 6 6 9]\n",
      " [9 9 8 8 7 9]]\n"
     ]
    }
   ],
   "source": [
    "a = np.random.seed(0)\n",
    "a = np.random.randint(3,10,(6,6))\n",
    "print(a)\n",
    "c = np.sort(a, axis=1) #sắp xếp tăng dần theo hàng \n",
    "print(c)\n",
    "c = np.sort(a, axis=0)  #sắp xếp tăng dần theo cột \n",
    "print(c)\n"
   ]
  }
 ],
 "metadata": {
  "kernelspec": {
   "display_name": "Python 3",
   "language": "python",
   "name": "python3"
  },
  "language_info": {
   "codemirror_mode": {
    "name": "ipython",
    "version": 3
   },
   "file_extension": ".py",
   "mimetype": "text/x-python",
   "name": "python",
   "nbconvert_exporter": "python",
   "pygments_lexer": "ipython3",
   "version": "3.10.1"
  },
  "orig_nbformat": 4,
  "vscode": {
   "interpreter": {
    "hash": "2ae786e0187e8aee91d8c6a51496c4f1e2e88dd3dd8ce991dbf3208fe5193d93"
   }
  }
 },
 "nbformat": 4,
 "nbformat_minor": 2
}
