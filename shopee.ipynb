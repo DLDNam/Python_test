{
 "cells": [
  {
   "cell_type": "code",
   "execution_count": 58,
   "metadata": {},
   "outputs": [],
   "source": [
    "import pandas as pd \n",
    "import numpy as np\n"
   ]
  },
  {
   "cell_type": "code",
   "execution_count": 59,
   "metadata": {},
   "outputs": [
    {
     "data": {
      "text/plain": [
       "0     <div class=\"_1yN94N WoKSjC _2KkMCe\">Loa blueto...\n",
       "1     <div class=\"_1yN94N WoKSjC _2KkMCe\">Tai nghe b...\n",
       "2     <div class=\"_1yN94N WoKSjC _2KkMCe\">Dầu Mỡ VCK...\n",
       "3     <div class=\"_1yN94N WoKSjC _2KkMCe\">Bộ Mở Rộng...\n",
       "4     <div class=\"_1yN94N WoKSjC _2KkMCe\">QKCASE - L...\n",
       "5     <div class=\"_1yN94N WoKSjC _2KkMCe\">Tai nghe c...\n",
       "6     <div class=\"_1yN94N WoKSjC _2KkMCe\">Switch phí...\n",
       "7     <div class=\"_1yN94N WoKSjC _2KkMCe\">Miếng dán ...\n",
       "8     <div class=\"_1yN94N WoKSjC _2KkMCe\">Loa blueto...\n",
       "9     <div class=\"_1yN94N WoKSjC _2KkMCe\">Tai Nghe B...\n",
       "10    <div class=\"_1yN94N WoKSjC _2KkMCe\">Chuột Logi...\n",
       "11    <div class=\"_1yN94N WoKSjC _2KkMCe\">bộ phát wi...\n",
       "12    <div class=\"_1yN94N WoKSjC _2KkMCe\">Loa xách t...\n",
       "13    <div class=\"_1yN94N WoKSjC _2KkMCe\">Tai nghe b...\n",
       "14    <div class=\"_1yN94N WoKSjC _2KkMCe\">[Chính hãn...\n",
       "15    <div class=\"_1yN94N WoKSjC _2KkMCe\">Quạt Tản N...\n",
       "16    <div class=\"_1yN94N WoKSjC _2KkMCe\">Mic Karaok...\n",
       "17    <div class=\"_1yN94N WoKSjC _2KkMCe\">Tai nghe b...\n",
       "18    <div class=\"_1yN94N WoKSjC _2KkMCe\">Chuột chơi...\n",
       "19    <div class=\"_1yN94N WoKSjC _2KkMCe\">MICRO USB ...\n",
       "20    <div class=\"_1yN94N WoKSjC _2KkMCe\">Loa blueto...\n",
       "21    <div class=\"_1yN94N WoKSjC _2KkMCe\">Tai nghe B...\n",
       "22    <div class=\"_1yN94N WoKSjC _2KkMCe\">Bộ bàn phí...\n",
       "23    <div class=\"_1yN94N WoKSjC _2KkMCe\">Bộ phát wi...\n",
       "24    <div class=\"_1yN94N WoKSjC _2KkMCe\">Loa Blueto...\n",
       "25    <div class=\"_1yN94N WoKSjC _2KkMCe\">Tai Nghe M...\n",
       "26    <div class=\"_1yN94N WoKSjC _2KkMCe\">Giá đỡ LAP...\n",
       "27    <div class=\"_1yN94N WoKSjC _2KkMCe\">Bộ Bàn Phí...\n",
       "28    <div class=\"_1yN94N WoKSjC _2KkMCe\">Loa blueto...\n",
       "29    <div class=\"_1yN94N WoKSjC _2KkMCe\">Tai Nghe G...\n",
       "30    <div class=\"_1yN94N WoKSjC _2KkMCe\">Combo Bộ V...\n",
       "31    <div class=\"_1yN94N WoKSjC _2KkMCe\">USB 8GB 16...\n",
       "32    <div class=\"_1yN94N WoKSjC _2KkMCe\">1 micro mi...\n",
       "33    <div class=\"_1yN94N WoKSjC _2KkMCe\">Tws G01 Cổ...\n",
       "34    <div class=\"_1yN94N WoKSjC _2KkMCe\">Bộ Chia 4 ...\n",
       "35    <div class=\"_1yN94N WoKSjC _2KkMCe\">ổ cứng di ...\n",
       "36    <div class=\"_1yN94N WoKSjC _2KkMCe\">Chuột máy ...\n",
       "37    <div class=\"_1yN94N WoKSjC _2KkMCe\">Tai Nghe B...\n",
       "38    <div class=\"_1yN94N WoKSjC _2KkMCe\">Phễu đổ mự...\n",
       "39    <div class=\"_1yN94N WoKSjC _2KkMCe\">UGREEN USB...\n",
       "40    <div class=\"_1yN94N WoKSjC _2KkMCe\">Bàn Phím M...\n",
       "41    <div class=\"_1yN94N WoKSjC _2KkMCe\">Tai Nghe C...\n",
       "42    <div class=\"_1yN94N WoKSjC _2KkMCe\">Túi đựng l...\n",
       "43    <div class=\"_1yN94N WoKSjC _2KkMCe\">Loa Blueto...\n",
       "44    <div class=\"_1yN94N WoKSjC _2KkMCe\">Chuột Blue...\n",
       "45    <div class=\"_1yN94N WoKSjC _2KkMCe\">Tai Nghe C...\n",
       "46    <div class=\"_1yN94N WoKSjC _2KkMCe\">Kệ để LAPT...\n",
       "47    <div class=\"_1yN94N WoKSjC _2KkMCe\">Loa Blueto...\n",
       "48    <div class=\"_1yN94N WoKSjC _2KkMCe\">Bộ bàn phí...\n",
       "49    <div class=\"_1yN94N WoKSjC _2KkMCe\">Tai nghe k...\n",
       "50    <div class=\"_1yN94N WoKSjC _2KkMCe\">Bàn học để...\n",
       "51    <div class=\"_1yN94N WoKSjC _2KkMCe\">Loa blueto...\n",
       "52    <div class=\"_1yN94N WoKSjC _2KkMCe\">Chuột khôn...\n",
       "53    <div class=\"_1yN94N WoKSjC _2KkMCe\">Tai Nghe C...\n",
       "54    <div class=\"_1yN94N WoKSjC _2KkMCe\">[QR Code] ...\n",
       "55    <div class=\"_1yN94N WoKSjC _2KkMCe\">Loa Blueto...\n",
       "56    <div class=\"_1yN94N WoKSjC _2KkMCe\">Bàn Phím C...\n",
       "57    <div class=\"_1yN94N WoKSjC _2KkMCe\">Tai nghe n...\n",
       "58    <div class=\"_1yN94N WoKSjC _2KkMCe\">Đầu chuyển...\n",
       "59    <div class=\"_1yN94N WoKSjC _2KkMCe\">Loa Máy Tí...\n",
       "Name: name, dtype: object"
      ]
     },
     "execution_count": 59,
     "metadata": {},
     "output_type": "execute_result"
    }
   ],
   "source": [
    "my_df = pd.read_csv(\"shopee_products_page1 (1).csv\")\n",
    "my_df['name']"
   ]
  },
  {
   "cell_type": "code",
   "execution_count": 60,
   "metadata": {},
   "outputs": [],
   "source": [
    "my_df.dropna(how = 'all')\n",
    "def split_name(n):\n",
    "    n = str(n)\n",
    "    row_new = n.split('>')[1]\n",
    "    row_new = row_new[0:len(row_new)-5]\n",
    "    return row_new\n",
    "\n"
   ]
  },
  {
   "cell_type": "code",
   "execution_count": 61,
   "metadata": {},
   "outputs": [],
   "source": [
    "my_df['name']= my_df['name'].apply(lambda x: split_name(x))"
   ]
  },
  {
   "cell_type": "code",
   "execution_count": 62,
   "metadata": {},
   "outputs": [],
   "source": [
    "def split_price(x):\n",
    "    row = x.split('>')\n",
    "    if len(row)==7:\n",
    "        p1 = row[4]\n",
    "        price = p1[0:len(p1)-6]\n",
    "    else:\n",
    "        p1 = row[4]\n",
    "        p2 = row[8]\n",
    "        price = p1[0:len(p1)-6] + \" - \" + p2[0:len(p2)-6]\n",
    "\n",
    "    return price"
   ]
  },
  {
   "cell_type": "code",
   "execution_count": 63,
   "metadata": {},
   "outputs": [],
   "source": [
    "my_df['price'] = my_df['price'].apply(lambda x: split_price(x))"
   ]
  },
  {
   "cell_type": "code",
   "execution_count": 64,
   "metadata": {},
   "outputs": [],
   "source": [
    "my_df[['name','price']].to_csv('shopee.csv')"
   ]
  }
 ],
 "metadata": {
  "kernelspec": {
   "display_name": "base",
   "language": "python",
   "name": "python3"
  },
  "language_info": {
   "codemirror_mode": {
    "name": "ipython",
    "version": 3
   },
   "file_extension": ".py",
   "mimetype": "text/x-python",
   "name": "python",
   "nbconvert_exporter": "python",
   "pygments_lexer": "ipython3",
   "version": "3.9.13"
  },
  "orig_nbformat": 4
 },
 "nbformat": 4,
 "nbformat_minor": 2
}
