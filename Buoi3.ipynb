{
 "cells": [
  {
   "cell_type": "code",
   "execution_count": 46,
   "metadata": {},
   "outputs": [
    {
     "name": "stdout",
     "output_type": "stream",
     "text": [
      "Dinh , NAm , D  L  D  N\n"
     ]
    }
   ],
   "source": [
    "st =input()\n",
    "first_name = st.split(\" \")[0]\n",
    "last_name = st.split(\" \")[-1]\n",
    "tam = st[0]\n",
    "for i in range(len(st)):\n",
    "    if st[i-1] == \" \":\n",
    "        tam = str(tam) + st[i]\n",
    "print(first_name,\",\",last_name,\",\",tam)\n",
    "\n"
   ]
  },
  {
   "cell_type": "code",
   "execution_count": 1,
   "metadata": {},
   "outputs": [
    {
     "name": "stdout",
     "output_type": "stream",
     "text": [
      "123 + 324 = 447 => 744 => result 1488\n"
     ]
    }
   ],
   "source": [
    "a = int(input())\n",
    "b = int(input())\n",
    "sum = str(a + b)[::-1]\n",
    "print (f\"{a} + {b} = {sum[::-1]} => {sum} => result {int(sum)*2}\")\n",
    "\n"
   ]
  },
  {
   "cell_type": "code",
   "execution_count": null,
   "metadata": {},
   "outputs": [],
   "source": []
  },
  {
   "cell_type": "code",
   "execution_count": 10,
   "metadata": {},
   "outputs": [
    {
     "name": "stdout",
     "output_type": "stream",
     "text": [
      "   \n"
     ]
    }
   ],
   "source": [
    "st = input()\n",
    "st = st.strip()\n",
    "while st == \"\":\n",
    "    st = input(\"Nhap lai: \")\n",
    "    st = st.strip()\n",
    "print(st.upper())"
   ]
  },
  {
   "cell_type": "code",
   "execution_count": 13,
   "metadata": {},
   "outputs": [
    {
     "name": "stdout",
     "output_type": "stream",
     "text": [
      "Positive Number\n"
     ]
    }
   ],
   "source": [
    "num = int(input())\n",
    "print(\"Positive Number\") if num>0 else (print(\"ZERO\") if num==0 else print(\"Negative Number\"))"
   ]
  },
  {
   "cell_type": "code",
   "execution_count": 14,
   "metadata": {},
   "outputs": [
    {
     "name": "stdout",
     "output_type": "stream",
     "text": [
      "odd number\n"
     ]
    }
   ],
   "source": [
    "# ex1 \n",
    "n = int(input())\n",
    "if (n % 2 ) == 1:\n",
    "    print(\"odd number\")\n",
    "else:\n",
    "    print(\"even number\")"
   ]
  },
  {
   "cell_type": "code",
   "execution_count": 16,
   "metadata": {},
   "outputs": [
    {
     "name": "stdout",
     "output_type": "stream",
     "text": [
      "not empty\n"
     ]
    }
   ],
   "source": [
    "# ex2 \n",
    "st = input()\n",
    "if len(st) == 0:\n",
    "    print(\"empty\")\n",
    "else:\n",
    "    print(\"not empty\")"
   ]
  },
  {
   "cell_type": "code",
   "execution_count": 17,
   "metadata": {},
   "outputs": [
    {
     "name": "stdout",
     "output_type": "stream",
     "text": [
      "consonant\n"
     ]
    }
   ],
   "source": [
    "# ex3\n",
    "st = input()\n",
    "vowel = 'ueoaiyw'\n",
    "if st.lower() in vowel:\n",
    "    print(\"vowel\")\n",
    "else:\n",
    "    print (\"consonant\")\n",
    " "
   ]
  },
  {
   "cell_type": "code",
   "execution_count": null,
   "metadata": {},
   "outputs": [],
   "source": [
    "# ex1 \n",
    "num1 = int(input())\n",
    "num2 = int(input())\n",
    "if num1 % num2 == 0:\n",
    "    print(\"True\")\n",
    "else:\n",
    "    print(\"False\")"
   ]
  },
  {
   "cell_type": "code",
   "execution_count": 19,
   "metadata": {},
   "outputs": [
    {
     "name": "stdout",
     "output_type": "stream",
     "text": [
      "1500 is not a leap year.\n"
     ]
    }
   ],
   "source": [
    "# ex2\n",
    "year = int(input(\"Enter a year: \"))\n",
    "if year % 4 == 0:\n",
    "    if year % 100 == 0:\n",
    "        if year % 400 == 0:\n",
    "            print(year, \"is a leap year.\")\n",
    "        else:\n",
    "            print(year, \"is not a leap year.\")\n",
    "    else:\n",
    "        print(year, \"is a leap year.\")\n",
    "else:\n",
    "    print(year, \"is not a leap year.\")\n"
   ]
  },
  {
   "cell_type": "code",
   "execution_count": null,
   "metadata": {},
   "outputs": [],
   "source": [
    "n = int(input(\"enter GRADE: \"))\n",
    "if n >= 90:\n",
    "    print(\"A\")\n",
    "elif n>=80:\n",
    "    print(\"B\")\n",
    "elif n >= 70:\n",
    "    print(C)"
   ]
  },
  {
   "cell_type": "code",
   "execution_count": 1,
   "metadata": {},
   "outputs": [
    {
     "data": {
      "text/plain": [
       "6"
      ]
     },
     "execution_count": 1,
     "metadata": {},
     "output_type": "execute_result"
    }
   ],
   "source": [
    "a = 6 \n",
    "b = 7\n",
    "a,b = b,a\n",
    "a\n",
    "b"
   ]
  }
 ],
 "metadata": {
  "kernelspec": {
   "display_name": "base",
   "language": "python",
   "name": "python3"
  },
  "language_info": {
   "codemirror_mode": {
    "name": "ipython",
    "version": 3
   },
   "file_extension": ".py",
   "mimetype": "text/x-python",
   "name": "python",
   "nbconvert_exporter": "python",
   "pygments_lexer": "ipython3",
   "version": "3.9.13"
  },
  "orig_nbformat": 4
 },
 "nbformat": 4,
 "nbformat_minor": 2
}
