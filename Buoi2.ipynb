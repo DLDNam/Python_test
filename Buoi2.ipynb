{
 "cells": [
  {
   "cell_type": "code",
   "execution_count": 14,
   "metadata": {},
   "outputs": [
    {
     "name": "stdout",
     "output_type": "stream",
     "text": [
      "Hello Word\n",
      "Hello Hello 2023\n",
      "Hello--Word--2023!"
     ]
    }
   ],
   "source": [
    "print(\"Hello Word\")\n",
    "print(\"Hello\",\"Hello\",2023)\n",
    "print(\"Hello\",\"Word\",\"2023\",sep=\"--\",end=\"!\")"
   ]
  },
  {
   "cell_type": "code",
   "execution_count": 15,
   "metadata": {},
   "outputs": [],
   "source": [
    "with open('output.txt','w') as f:\n",
    "    print(\"Hello\", \"word\",sep='-',end='!',file=f,flush=True)\n",
    "    "
   ]
  },
  {
   "cell_type": "code",
   "execution_count": 16,
   "metadata": {},
   "outputs": [
    {
     "name": "stdout",
     "output_type": "stream",
     "text": [
      "my name is alice and i'm 25 year old\n"
     ]
    }
   ],
   "source": [
    "name = 'alice'\n",
    "age = 25\n",
    "print(f\"my name is {name} and i'm {age} year old\")"
   ]
  },
  {
   "cell_type": "code",
   "execution_count": 17,
   "metadata": {},
   "outputs": [
    {
     "name": "stdout",
     "output_type": "stream",
     "text": [
      "my name is bob. I am 30 years old and weigh 75.5 kg.\n"
     ]
    }
   ],
   "source": [
    "name = \"bob\"\n",
    "age = 30\n",
    "weight = 75.5\n",
    "print(\"my name is {}. I am {} years old and weigh {} kg.\".format(name, age , weight))\n"
   ]
  },
  {
   "cell_type": "code",
   "execution_count": 18,
   "metadata": {},
   "outputs": [
    {
     "name": "stdout",
     "output_type": "stream",
     "text": [
      " Hello world!\n",
      "30\n"
     ]
    }
   ],
   "source": [
    "message = ' Hello world!'\n",
    "print(message)\n",
    "age = 25\n",
    "pi = 3.14159\n",
    "is_valid = True\n",
    "age = 30\n",
    "print(age)"
   ]
  },
  {
   "cell_type": "code",
   "execution_count": 19,
   "metadata": {},
   "outputs": [
    {
     "name": "stdout",
     "output_type": "stream",
     "text": [
      "3.14159\n"
     ]
    }
   ],
   "source": [
    "PI = 3.14159\n",
    "print(PI)"
   ]
  },
  {
   "cell_type": "code",
   "execution_count": 20,
   "metadata": {},
   "outputs": [
    {
     "name": "stdout",
     "output_type": "stream",
     "text": [
      "circle Area =  78.5\n",
      "Circumference =  31.400000000000002\n"
     ]
    }
   ],
   "source": [
    "# EX1 \n",
    "r = 5\n",
    "cv = r*2 *3.14\n",
    "s = r*r*3.14\n",
    "print(\"circle Area = \",s)\n",
    "print(\"Circumference = \",cv)"
   ]
  },
  {
   "cell_type": "code",
   "execution_count": 21,
   "metadata": {},
   "outputs": [
    {
     "name": "stdout",
     "output_type": "stream",
     "text": [
      "53.6\n"
     ]
    }
   ],
   "source": [
    "#ex2 \n",
    "celsius = 12\n",
    "fahrenheit = (celsius * 9/5) +32\n",
    "print(fahrenheit)"
   ]
  },
  {
   "cell_type": "code",
   "execution_count": 22,
   "metadata": {},
   "outputs": [
    {
     "name": "stdout",
     "output_type": "stream",
     "text": [
      "20   10\n"
     ]
    }
   ],
   "source": [
    "#EX3 \n",
    "a = 10\n",
    "b = 20\n",
    "a , b = b , a\n",
    "print (a,\" \",b) "
   ]
  },
  {
   "cell_type": "code",
   "execution_count": 23,
   "metadata": {},
   "outputs": [
    {
     "name": "stdout",
     "output_type": "stream",
     "text": [
      "0.001\n"
     ]
    }
   ],
   "source": [
    "t = 10\n",
    "r = 5\n",
    "x = 1/(t**3)+ (r**5/(t**(r**3)))\n",
    "print(x)"
   ]
  },
  {
   "cell_type": "code",
   "execution_count": 24,
   "metadata": {},
   "outputs": [
    {
     "name": "stdout",
     "output_type": "stream",
     "text": [
      "10\n",
      "10\n",
      "10.54\n",
      "10\n",
      "30\n",
      "10.0\n"
     ]
    }
   ],
   "source": [
    "import math\n",
    "print(abs(-10))\n",
    "print(round(10.5))\n",
    "print(round(10.541,2))\n",
    "print(min(10,20,30,40))\n",
    "print(max(10,20,30,12))\n",
    "print(math.sqrt(100))"
   ]
  },
  {
   "cell_type": "code",
   "execution_count": 25,
   "metadata": {},
   "outputs": [
    {
     "name": "stdout",
     "output_type": "stream",
     "text": [
      "1.770997335015608\n"
     ]
    }
   ],
   "source": [
    "from math import sqrt, sin ,pi, tan\n",
    "t = 10\n",
    "r = 5\n",
    "x = sin(t**4) + pi * tan(2**r)\n",
    "print(x)"
   ]
  },
  {
   "cell_type": "code",
   "execution_count": 26,
   "metadata": {},
   "outputs": [
    {
     "data": {
      "text/plain": [
       "24"
      ]
     },
     "execution_count": 26,
     "metadata": {},
     "output_type": "execute_result"
    }
   ],
   "source": [
    "r = (10+\n",
    "     4\n",
    "     +6+\n",
    "     4)\n",
    "r"
   ]
  },
  {
   "cell_type": "code",
   "execution_count": 29,
   "metadata": {},
   "outputs": [
    {
     "name": "stdout",
     "output_type": "stream",
     "text": [
      "circle Area =  6.1544\n",
      "Circumference =  8.792\n"
     ]
    }
   ],
   "source": [
    "#EX1\n",
    "r = float(input())\n",
    "cv = r*2 *3.14\n",
    "s = r*r*3.14\n",
    "print(\"circle Area = \",s)\n",
    "print(\"Circumference = \",cv)"
   ]
  },
  {
   "cell_type": "code",
   "execution_count": 30,
   "metadata": {},
   "outputs": [
    {
     "name": "stdout",
     "output_type": "stream",
     "text": [
      "171.88733853924697\n",
      "3.0\n"
     ]
    }
   ],
   "source": [
    "import math\n",
    "degrees = float(input(\"input degrees: \"))\n",
    "radians = math.radians(degrees)\n",
    "radians = float(input(\"input radians: \"))\n",
    "degrees = math.degrees(radians)\n",
    "print(degrees)\n",
    "print(radians)"
   ]
  },
  {
   "cell_type": "code",
   "execution_count": 28,
   "metadata": {},
   "outputs": [
    {
     "name": "stdout",
     "output_type": "stream",
     "text": [
      "x1 =  -2.5358983848622456\n",
      "x2 =  -9.464101615137753\n"
     ]
    }
   ],
   "source": [
    "#EX3\n",
    "a = float(input(\"a = \"))\n",
    "b = float(input(\"a = \"))\n",
    "c = float(input(\"c = \"))\n",
    "dt = (b*b) - 4*a*c\n",
    "x1 = (-b + sqrt(dt))/2\n",
    "x2 = (-b - sqrt(dt))/2\n",
    "print (\"x1 = \",x1)\n",
    "print (\"x2 = \",x2)\n"
   ]
  },
  {
   "cell_type": "code",
   "execution_count": 2,
   "metadata": {},
   "outputs": [
    {
     "data": {
      "text/plain": [
       "'Nam'"
      ]
     },
     "execution_count": 2,
     "metadata": {},
     "output_type": "execute_result"
    }
   ],
   "source": [
    "st = \"Dinh le Duc Nam\"\n",
    "s1 = st.split(\" \")\n",
    "s1[len(s1)-1]"
   ]
  },
  {
   "cell_type": "code",
   "execution_count": 11,
   "metadata": {},
   "outputs": [
    {
     "data": {
      "text/plain": [
       "2"
      ]
     },
     "execution_count": 11,
     "metadata": {},
     "output_type": "execute_result"
    }
   ],
   "source": [
    "s = int(input())\n",
    "s"
   ]
  },
  {
   "cell_type": "markdown",
   "metadata": {},
   "source": [
    "# Test pandas\n"
   ]
  },
  {
   "cell_type": "code",
   "execution_count": 59,
   "metadata": {},
   "outputs": [
    {
     "data": {
      "text/html": [
       "<div>\n",
       "<style scoped>\n",
       "    .dataframe tbody tr th:only-of-type {\n",
       "        vertical-align: middle;\n",
       "    }\n",
       "\n",
       "    .dataframe tbody tr th {\n",
       "        vertical-align: top;\n",
       "    }\n",
       "\n",
       "    .dataframe thead th {\n",
       "        text-align: right;\n",
       "    }\n",
       "</style>\n",
       "<table border=\"1\" class=\"dataframe\">\n",
       "  <thead>\n",
       "    <tr style=\"text-align: right;\">\n",
       "      <th></th>\n",
       "      <th>Unnamed: 0</th>\n",
       "      <th>name</th>\n",
       "      <th>price</th>\n",
       "      <th>discount</th>\n",
       "    </tr>\n",
       "  </thead>\n",
       "  <tbody>\n",
       "    <tr>\n",
       "      <th>0</th>\n",
       "      <td>0</td>\n",
       "      <td>&lt;div class=\"_1yN94N WoKSjC _2KkMCe\"&gt;Loa blueto...</td>\n",
       "      <td>&lt;div class=\"cbl0HO MUmBjS\"&gt;&lt;span class=\"UBgKW+...</td>\n",
       "      <td>&lt;div class=\"oiV-yk oqpuuD POAPqq\"&gt;&lt;span class=...</td>\n",
       "    </tr>\n",
       "    <tr>\n",
       "      <th>1</th>\n",
       "      <td>1</td>\n",
       "      <td>&lt;div class=\"_1yN94N WoKSjC _2KkMCe\"&gt;Tai nghe b...</td>\n",
       "      <td>&lt;div class=\"cbl0HO MUmBjS\"&gt;&lt;span class=\"UBgKW+...</td>\n",
       "      <td>&lt;div class=\"oiV-yk oqpuuD POAPqq\"&gt;&lt;span class=...</td>\n",
       "    </tr>\n",
       "    <tr>\n",
       "      <th>2</th>\n",
       "      <td>2</td>\n",
       "      <td>&lt;div class=\"_1yN94N WoKSjC _2KkMCe\"&gt;Dầu Mỡ VCK...</td>\n",
       "      <td>&lt;div class=\"cbl0HO MUmBjS\"&gt;&lt;span class=\"UBgKW+...</td>\n",
       "      <td>NaN</td>\n",
       "    </tr>\n",
       "    <tr>\n",
       "      <th>3</th>\n",
       "      <td>3</td>\n",
       "      <td>&lt;div class=\"_1yN94N WoKSjC _2KkMCe\"&gt;Bộ Mở Rộng...</td>\n",
       "      <td>&lt;div class=\"cbl0HO MUmBjS\"&gt;&lt;span class=\"UBgKW+...</td>\n",
       "      <td>NaN</td>\n",
       "    </tr>\n",
       "    <tr>\n",
       "      <th>4</th>\n",
       "      <td>4</td>\n",
       "      <td>&lt;div class=\"_1yN94N WoKSjC _2KkMCe\"&gt;QKCASE - L...</td>\n",
       "      <td>&lt;div class=\"cbl0HO MUmBjS\"&gt;&lt;span class=\"UBgKW+...</td>\n",
       "      <td>NaN</td>\n",
       "    </tr>\n",
       "  </tbody>\n",
       "</table>\n",
       "</div>"
      ],
      "text/plain": [
       "   Unnamed: 0                                               name  \\\n",
       "0           0  <div class=\"_1yN94N WoKSjC _2KkMCe\">Loa blueto...   \n",
       "1           1  <div class=\"_1yN94N WoKSjC _2KkMCe\">Tai nghe b...   \n",
       "2           2  <div class=\"_1yN94N WoKSjC _2KkMCe\">Dầu Mỡ VCK...   \n",
       "3           3  <div class=\"_1yN94N WoKSjC _2KkMCe\">Bộ Mở Rộng...   \n",
       "4           4  <div class=\"_1yN94N WoKSjC _2KkMCe\">QKCASE - L...   \n",
       "\n",
       "                                               price  \\\n",
       "0  <div class=\"cbl0HO MUmBjS\"><span class=\"UBgKW+...   \n",
       "1  <div class=\"cbl0HO MUmBjS\"><span class=\"UBgKW+...   \n",
       "2  <div class=\"cbl0HO MUmBjS\"><span class=\"UBgKW+...   \n",
       "3  <div class=\"cbl0HO MUmBjS\"><span class=\"UBgKW+...   \n",
       "4  <div class=\"cbl0HO MUmBjS\"><span class=\"UBgKW+...   \n",
       "\n",
       "                                            discount  \n",
       "0  <div class=\"oiV-yk oqpuuD POAPqq\"><span class=...  \n",
       "1  <div class=\"oiV-yk oqpuuD POAPqq\"><span class=...  \n",
       "2                                                NaN  \n",
       "3                                                NaN  \n",
       "4                                                NaN  "
      ]
     },
     "execution_count": 59,
     "metadata": {},
     "output_type": "execute_result"
    }
   ],
   "source": [
    "import pandas as pd \n",
    "df = pd.read_csv('shopee_products_page1 (1).csv')\n",
    "df.head()"
   ]
  },
  {
   "cell_type": "code",
   "execution_count": 65,
   "metadata": {},
   "outputs": [
    {
     "data": {
      "text/html": [
       "<div>\n",
       "<style scoped>\n",
       "    .dataframe tbody tr th:only-of-type {\n",
       "        vertical-align: middle;\n",
       "    }\n",
       "\n",
       "    .dataframe tbody tr th {\n",
       "        vertical-align: top;\n",
       "    }\n",
       "\n",
       "    .dataframe thead th {\n",
       "        text-align: right;\n",
       "    }\n",
       "</style>\n",
       "<table border=\"1\" class=\"dataframe\">\n",
       "  <thead>\n",
       "    <tr style=\"text-align: right;\">\n",
       "      <th></th>\n",
       "      <th>Unnamed: 0</th>\n",
       "      <th>name</th>\n",
       "      <th>price</th>\n",
       "      <th>discount</th>\n",
       "    </tr>\n",
       "  </thead>\n",
       "  <tbody>\n",
       "    <tr>\n",
       "      <th>0</th>\n",
       "      <td>0</td>\n",
       "      <td>&lt;div class=\"_1yN94N WoKSjC _2KkMCe\"&gt;Loa blueto...</td>\n",
       "      <td>60.000</td>\n",
       "      <td>&lt;div class=\"oiV-yk oqpuuD POAPqq\"&gt;&lt;span class=...</td>\n",
       "    </tr>\n",
       "    <tr>\n",
       "      <th>1</th>\n",
       "      <td>1</td>\n",
       "      <td>&lt;div class=\"_1yN94N WoKSjC _2KkMCe\"&gt;Tai nghe b...</td>\n",
       "      <td>119.000</td>\n",
       "      <td>&lt;div class=\"oiV-yk oqpuuD POAPqq\"&gt;&lt;span class=...</td>\n",
       "    </tr>\n",
       "    <tr>\n",
       "      <th>2</th>\n",
       "      <td>2</td>\n",
       "      <td>&lt;div class=\"_1yN94N WoKSjC _2KkMCe\"&gt;Dầu Mỡ VCK...</td>\n",
       "      <td>26.868</td>\n",
       "      <td>NaN</td>\n",
       "    </tr>\n",
       "    <tr>\n",
       "      <th>3</th>\n",
       "      <td>3</td>\n",
       "      <td>&lt;div class=\"_1yN94N WoKSjC _2KkMCe\"&gt;Bộ Mở Rộng...</td>\n",
       "      <td>179.000</td>\n",
       "      <td>NaN</td>\n",
       "    </tr>\n",
       "    <tr>\n",
       "      <th>4</th>\n",
       "      <td>4</td>\n",
       "      <td>&lt;div class=\"_1yN94N WoKSjC _2KkMCe\"&gt;QKCASE - L...</td>\n",
       "      <td>13.900</td>\n",
       "      <td>NaN</td>\n",
       "    </tr>\n",
       "    <tr>\n",
       "      <th>5</th>\n",
       "      <td>5</td>\n",
       "      <td>&lt;div class=\"_1yN94N WoKSjC _2KkMCe\"&gt;Tai nghe c...</td>\n",
       "      <td>85.000</td>\n",
       "      <td>&lt;div class=\"oiV-yk oqpuuD POAPqq\"&gt;&lt;span class=...</td>\n",
       "    </tr>\n",
       "    <tr>\n",
       "      <th>6</th>\n",
       "      <td>6</td>\n",
       "      <td>&lt;div class=\"_1yN94N WoKSjC _2KkMCe\"&gt;Switch phí...</td>\n",
       "      <td>2.500</td>\n",
       "      <td>&lt;div class=\"oiV-yk oqpuuD POAPqq\"&gt;&lt;span class=...</td>\n",
       "    </tr>\n",
       "    <tr>\n",
       "      <th>7</th>\n",
       "      <td>7</td>\n",
       "      <td>&lt;div class=\"_1yN94N WoKSjC _2KkMCe\"&gt;Miếng dán ...</td>\n",
       "      <td>50.000</td>\n",
       "      <td>&lt;div class=\"oiV-yk oqpuuD POAPqq\"&gt;&lt;span class=...</td>\n",
       "    </tr>\n",
       "    <tr>\n",
       "      <th>8</th>\n",
       "      <td>8</td>\n",
       "      <td>&lt;div class=\"_1yN94N WoKSjC _2KkMCe\"&gt;Loa blueto...</td>\n",
       "      <td>89.000</td>\n",
       "      <td>&lt;div class=\"oiV-yk oqpuuD POAPqq\"&gt;&lt;span class=...</td>\n",
       "    </tr>\n",
       "    <tr>\n",
       "      <th>9</th>\n",
       "      <td>9</td>\n",
       "      <td>&lt;div class=\"_1yN94N WoKSjC _2KkMCe\"&gt;Tai Nghe B...</td>\n",
       "      <td>125.000</td>\n",
       "      <td>&lt;div class=\"oiV-yk oqpuuD POAPqq\"&gt;&lt;span class=...</td>\n",
       "    </tr>\n",
       "    <tr>\n",
       "      <th>10</th>\n",
       "      <td>10</td>\n",
       "      <td>&lt;div class=\"_1yN94N WoKSjC _2KkMCe\"&gt;Chuột Logi...</td>\n",
       "      <td>15.000</td>\n",
       "      <td>&lt;div class=\"oiV-yk oqpuuD POAPqq\"&gt;&lt;span class=...</td>\n",
       "    </tr>\n",
       "    <tr>\n",
       "      <th>11</th>\n",
       "      <td>11</td>\n",
       "      <td>&lt;div class=\"_1yN94N WoKSjC _2KkMCe\"&gt;bộ phát wi...</td>\n",
       "      <td>20.000</td>\n",
       "      <td>NaN</td>\n",
       "    </tr>\n",
       "    <tr>\n",
       "      <th>12</th>\n",
       "      <td>12</td>\n",
       "      <td>&lt;div class=\"_1yN94N WoKSjC _2KkMCe\"&gt;Loa xách t...</td>\n",
       "      <td>97.600</td>\n",
       "      <td>&lt;div class=\"oiV-yk oqpuuD POAPqq\"&gt;&lt;span class=...</td>\n",
       "    </tr>\n",
       "    <tr>\n",
       "      <th>13</th>\n",
       "      <td>13</td>\n",
       "      <td>&lt;div class=\"_1yN94N WoKSjC _2KkMCe\"&gt;Tai nghe b...</td>\n",
       "      <td>52.500</td>\n",
       "      <td>&lt;div class=\"oiV-yk oqpuuD POAPqq\"&gt;&lt;span class=...</td>\n",
       "    </tr>\n",
       "    <tr>\n",
       "      <th>14</th>\n",
       "      <td>14</td>\n",
       "      <td>&lt;div class=\"_1yN94N WoKSjC _2KkMCe\"&gt;[Chính hãn...</td>\n",
       "      <td>5.100</td>\n",
       "      <td>&lt;div class=\"oiV-yk oqpuuD POAPqq\"&gt;&lt;span class=...</td>\n",
       "    </tr>\n",
       "    <tr>\n",
       "      <th>15</th>\n",
       "      <td>15</td>\n",
       "      <td>&lt;div class=\"_1yN94N WoKSjC _2KkMCe\"&gt;Quạt Tản N...</td>\n",
       "      <td>36.666</td>\n",
       "      <td>&lt;div class=\"oiV-yk oqpuuD POAPqq\"&gt;&lt;span class=...</td>\n",
       "    </tr>\n",
       "    <tr>\n",
       "      <th>16</th>\n",
       "      <td>16</td>\n",
       "      <td>&lt;div class=\"_1yN94N WoKSjC _2KkMCe\"&gt;Mic Karaok...</td>\n",
       "      <td>15.000</td>\n",
       "      <td>&lt;div class=\"oiV-yk oqpuuD POAPqq\"&gt;&lt;span class=...</td>\n",
       "    </tr>\n",
       "    <tr>\n",
       "      <th>17</th>\n",
       "      <td>17</td>\n",
       "      <td>&lt;div class=\"_1yN94N WoKSjC _2KkMCe\"&gt;Tai nghe b...</td>\n",
       "      <td>99.000</td>\n",
       "      <td>&lt;div class=\"oiV-yk oqpuuD POAPqq\"&gt;&lt;span class=...</td>\n",
       "    </tr>\n",
       "    <tr>\n",
       "      <th>18</th>\n",
       "      <td>18</td>\n",
       "      <td>&lt;div class=\"_1yN94N WoKSjC _2KkMCe\"&gt;Chuột chơi...</td>\n",
       "      <td>124.000</td>\n",
       "      <td>&lt;div class=\"oiV-yk oqpuuD POAPqq\"&gt;&lt;span class=...</td>\n",
       "    </tr>\n",
       "    <tr>\n",
       "      <th>19</th>\n",
       "      <td>19</td>\n",
       "      <td>&lt;div class=\"_1yN94N WoKSjC _2KkMCe\"&gt;MICRO USB ...</td>\n",
       "      <td>8.000</td>\n",
       "      <td>&lt;div class=\"oiV-yk oqpuuD POAPqq\"&gt;&lt;span class=...</td>\n",
       "    </tr>\n",
       "    <tr>\n",
       "      <th>20</th>\n",
       "      <td>20</td>\n",
       "      <td>&lt;div class=\"_1yN94N WoKSjC _2KkMCe\"&gt;Loa blueto...</td>\n",
       "      <td>119.000</td>\n",
       "      <td>&lt;div class=\"oiV-yk oqpuuD POAPqq\"&gt;&lt;span class=...</td>\n",
       "    </tr>\n",
       "    <tr>\n",
       "      <th>21</th>\n",
       "      <td>21</td>\n",
       "      <td>&lt;div class=\"_1yN94N WoKSjC _2KkMCe\"&gt;Tai nghe B...</td>\n",
       "      <td>99.000</td>\n",
       "      <td>&lt;div class=\"oiV-yk oqpuuD POAPqq\"&gt;&lt;span class=...</td>\n",
       "    </tr>\n",
       "    <tr>\n",
       "      <th>22</th>\n",
       "      <td>22</td>\n",
       "      <td>&lt;div class=\"_1yN94N WoKSjC _2KkMCe\"&gt;Bộ bàn phí...</td>\n",
       "      <td>43.000</td>\n",
       "      <td>&lt;div class=\"oiV-yk oqpuuD POAPqq\"&gt;&lt;span class=...</td>\n",
       "    </tr>\n",
       "    <tr>\n",
       "      <th>23</th>\n",
       "      <td>23</td>\n",
       "      <td>&lt;div class=\"_1yN94N WoKSjC _2KkMCe\"&gt;Bộ phát wi...</td>\n",
       "      <td>100.000</td>\n",
       "      <td>NaN</td>\n",
       "    </tr>\n",
       "    <tr>\n",
       "      <th>24</th>\n",
       "      <td>24</td>\n",
       "      <td>&lt;div class=\"_1yN94N WoKSjC _2KkMCe\"&gt;Loa Blueto...</td>\n",
       "      <td>68.000</td>\n",
       "      <td>&lt;div class=\"oiV-yk oqpuuD POAPqq\"&gt;&lt;span class=...</td>\n",
       "    </tr>\n",
       "    <tr>\n",
       "      <th>25</th>\n",
       "      <td>25</td>\n",
       "      <td>&lt;div class=\"_1yN94N WoKSjC _2KkMCe\"&gt;Tai Nghe M...</td>\n",
       "      <td>15.000</td>\n",
       "      <td>&lt;div class=\"oiV-yk oqpuuD POAPqq\"&gt;&lt;span class=...</td>\n",
       "    </tr>\n",
       "    <tr>\n",
       "      <th>26</th>\n",
       "      <td>26</td>\n",
       "      <td>&lt;div class=\"_1yN94N WoKSjC _2KkMCe\"&gt;Giá đỡ LAP...</td>\n",
       "      <td>29.000</td>\n",
       "      <td>&lt;div class=\"oiV-yk oqpuuD POAPqq\"&gt;&lt;span class=...</td>\n",
       "    </tr>\n",
       "    <tr>\n",
       "      <th>27</th>\n",
       "      <td>27</td>\n",
       "      <td>&lt;div class=\"_1yN94N WoKSjC _2KkMCe\"&gt;Bộ Bàn Phí...</td>\n",
       "      <td>25.000</td>\n",
       "      <td>&lt;div class=\"oiV-yk oqpuuD POAPqq\"&gt;&lt;span class=...</td>\n",
       "    </tr>\n",
       "    <tr>\n",
       "      <th>28</th>\n",
       "      <td>28</td>\n",
       "      <td>&lt;div class=\"_1yN94N WoKSjC _2KkMCe\"&gt;Loa blueto...</td>\n",
       "      <td>99.000</td>\n",
       "      <td>&lt;div class=\"oiV-yk oqpuuD POAPqq\"&gt;&lt;span class=...</td>\n",
       "    </tr>\n",
       "    <tr>\n",
       "      <th>29</th>\n",
       "      <td>29</td>\n",
       "      <td>&lt;div class=\"_1yN94N WoKSjC _2KkMCe\"&gt;Tai Nghe G...</td>\n",
       "      <td>20.000</td>\n",
       "      <td>&lt;div class=\"oiV-yk oqpuuD POAPqq\"&gt;&lt;span class=...</td>\n",
       "    </tr>\n",
       "    <tr>\n",
       "      <th>30</th>\n",
       "      <td>30</td>\n",
       "      <td>&lt;div class=\"_1yN94N WoKSjC _2KkMCe\"&gt;Combo Bộ V...</td>\n",
       "      <td>45.000</td>\n",
       "      <td>&lt;div class=\"oiV-yk oqpuuD POAPqq\"&gt;&lt;span class=...</td>\n",
       "    </tr>\n",
       "    <tr>\n",
       "      <th>31</th>\n",
       "      <td>31</td>\n",
       "      <td>&lt;div class=\"_1yN94N WoKSjC _2KkMCe\"&gt;USB 8GB 16...</td>\n",
       "      <td>52.000</td>\n",
       "      <td>&lt;div class=\"oiV-yk oqpuuD POAPqq\"&gt;&lt;span class=...</td>\n",
       "    </tr>\n",
       "    <tr>\n",
       "      <th>32</th>\n",
       "      <td>32</td>\n",
       "      <td>&lt;div class=\"_1yN94N WoKSjC _2KkMCe\"&gt;1 micro mi...</td>\n",
       "      <td>29.000</td>\n",
       "      <td>&lt;div class=\"oiV-yk oqpuuD POAPqq\"&gt;&lt;span class=...</td>\n",
       "    </tr>\n",
       "    <tr>\n",
       "      <th>33</th>\n",
       "      <td>33</td>\n",
       "      <td>&lt;div class=\"_1yN94N WoKSjC _2KkMCe\"&gt;Tws G01 Cổ...</td>\n",
       "      <td>13.600</td>\n",
       "      <td>&lt;div class=\"oiV-yk oqpuuD POAPqq\"&gt;&lt;span class=...</td>\n",
       "    </tr>\n",
       "    <tr>\n",
       "      <th>34</th>\n",
       "      <td>34</td>\n",
       "      <td>&lt;div class=\"_1yN94N WoKSjC _2KkMCe\"&gt;Bộ Chia 4 ...</td>\n",
       "      <td>43.000</td>\n",
       "      <td>&lt;div class=\"oiV-yk oqpuuD POAPqq\"&gt;&lt;span class=...</td>\n",
       "    </tr>\n",
       "    <tr>\n",
       "      <th>35</th>\n",
       "      <td>35</td>\n",
       "      <td>&lt;div class=\"_1yN94N WoKSjC _2KkMCe\"&gt;ổ cứng di ...</td>\n",
       "      <td>99.000</td>\n",
       "      <td>&lt;div class=\"oiV-yk oqpuuD POAPqq\"&gt;&lt;span class=...</td>\n",
       "    </tr>\n",
       "    <tr>\n",
       "      <th>36</th>\n",
       "      <td>36</td>\n",
       "      <td>&lt;div class=\"_1yN94N WoKSjC _2KkMCe\"&gt;Chuột máy ...</td>\n",
       "      <td>7.000</td>\n",
       "      <td>&lt;div class=\"oiV-yk oqpuuD POAPqq\"&gt;&lt;span class=...</td>\n",
       "    </tr>\n",
       "    <tr>\n",
       "      <th>37</th>\n",
       "      <td>37</td>\n",
       "      <td>&lt;div class=\"_1yN94N WoKSjC _2KkMCe\"&gt;Tai Nghe B...</td>\n",
       "      <td>28.850</td>\n",
       "      <td>&lt;div class=\"oiV-yk oqpuuD POAPqq\"&gt;&lt;span class=...</td>\n",
       "    </tr>\n",
       "    <tr>\n",
       "      <th>38</th>\n",
       "      <td>38</td>\n",
       "      <td>&lt;div class=\"_1yN94N WoKSjC _2KkMCe\"&gt;Phễu đổ mự...</td>\n",
       "      <td>3.000</td>\n",
       "      <td>NaN</td>\n",
       "    </tr>\n",
       "    <tr>\n",
       "      <th>39</th>\n",
       "      <td>39</td>\n",
       "      <td>&lt;div class=\"_1yN94N WoKSjC _2KkMCe\"&gt;UGREEN USB...</td>\n",
       "      <td>169.000</td>\n",
       "      <td>&lt;div class=\"oiV-yk oqpuuD POAPqq\"&gt;&lt;span class=...</td>\n",
       "    </tr>\n",
       "    <tr>\n",
       "      <th>40</th>\n",
       "      <td>40</td>\n",
       "      <td>&lt;div class=\"_1yN94N WoKSjC _2KkMCe\"&gt;Bàn Phím M...</td>\n",
       "      <td>126.000</td>\n",
       "      <td>&lt;div class=\"oiV-yk oqpuuD POAPqq\"&gt;&lt;span class=...</td>\n",
       "    </tr>\n",
       "    <tr>\n",
       "      <th>41</th>\n",
       "      <td>41</td>\n",
       "      <td>&lt;div class=\"_1yN94N WoKSjC _2KkMCe\"&gt;Tai Nghe C...</td>\n",
       "      <td>50.000</td>\n",
       "      <td>&lt;div class=\"oiV-yk oqpuuD POAPqq\"&gt;&lt;span class=...</td>\n",
       "    </tr>\n",
       "    <tr>\n",
       "      <th>42</th>\n",
       "      <td>42</td>\n",
       "      <td>&lt;div class=\"_1yN94N WoKSjC _2KkMCe\"&gt;Túi đựng l...</td>\n",
       "      <td>70.000</td>\n",
       "      <td>&lt;div class=\"oiV-yk oqpuuD POAPqq\"&gt;&lt;span class=...</td>\n",
       "    </tr>\n",
       "    <tr>\n",
       "      <th>43</th>\n",
       "      <td>43</td>\n",
       "      <td>&lt;div class=\"_1yN94N WoKSjC _2KkMCe\"&gt;Loa Blueto...</td>\n",
       "      <td>89.500</td>\n",
       "      <td>&lt;div class=\"oiV-yk oqpuuD POAPqq\"&gt;&lt;span class=...</td>\n",
       "    </tr>\n",
       "    <tr>\n",
       "      <th>44</th>\n",
       "      <td>44</td>\n",
       "      <td>&lt;div class=\"_1yN94N WoKSjC _2KkMCe\"&gt;Chuột Blue...</td>\n",
       "      <td>61.500</td>\n",
       "      <td>&lt;div class=\"oiV-yk oqpuuD POAPqq\"&gt;&lt;span class=...</td>\n",
       "    </tr>\n",
       "    <tr>\n",
       "      <th>45</th>\n",
       "      <td>45</td>\n",
       "      <td>&lt;div class=\"_1yN94N WoKSjC _2KkMCe\"&gt;Tai Nghe C...</td>\n",
       "      <td>37.600</td>\n",
       "      <td>&lt;div class=\"oiV-yk oqpuuD POAPqq\"&gt;&lt;span class=...</td>\n",
       "    </tr>\n",
       "    <tr>\n",
       "      <th>46</th>\n",
       "      <td>46</td>\n",
       "      <td>&lt;div class=\"_1yN94N WoKSjC _2KkMCe\"&gt;Kệ để LAPT...</td>\n",
       "      <td>15.000</td>\n",
       "      <td>NaN</td>\n",
       "    </tr>\n",
       "    <tr>\n",
       "      <th>47</th>\n",
       "      <td>47</td>\n",
       "      <td>&lt;div class=\"_1yN94N WoKSjC _2KkMCe\"&gt;Loa Blueto...</td>\n",
       "      <td>109.000</td>\n",
       "      <td>NaN</td>\n",
       "    </tr>\n",
       "    <tr>\n",
       "      <th>48</th>\n",
       "      <td>48</td>\n",
       "      <td>&lt;div class=\"_1yN94N WoKSjC _2KkMCe\"&gt;Bộ bàn phí...</td>\n",
       "      <td>31.000</td>\n",
       "      <td>&lt;div class=\"oiV-yk oqpuuD POAPqq\"&gt;&lt;span class=...</td>\n",
       "    </tr>\n",
       "    <tr>\n",
       "      <th>49</th>\n",
       "      <td>49</td>\n",
       "      <td>&lt;div class=\"_1yN94N WoKSjC _2KkMCe\"&gt;Tai nghe k...</td>\n",
       "      <td>101.000</td>\n",
       "      <td>&lt;div class=\"oiV-yk oqpuuD POAPqq\"&gt;&lt;span class=...</td>\n",
       "    </tr>\n",
       "    <tr>\n",
       "      <th>50</th>\n",
       "      <td>50</td>\n",
       "      <td>&lt;div class=\"_1yN94N WoKSjC _2KkMCe\"&gt;Bàn học để...</td>\n",
       "      <td>67.000</td>\n",
       "      <td>&lt;div class=\"oiV-yk oqpuuD POAPqq\"&gt;&lt;span class=...</td>\n",
       "    </tr>\n",
       "    <tr>\n",
       "      <th>51</th>\n",
       "      <td>51</td>\n",
       "      <td>&lt;div class=\"_1yN94N WoKSjC _2KkMCe\"&gt;Loa blueto...</td>\n",
       "      <td>85.000</td>\n",
       "      <td>&lt;div class=\"oiV-yk oqpuuD POAPqq\"&gt;&lt;span class=...</td>\n",
       "    </tr>\n",
       "    <tr>\n",
       "      <th>52</th>\n",
       "      <td>52</td>\n",
       "      <td>&lt;div class=\"_1yN94N WoKSjC _2KkMCe\"&gt;Chuột khôn...</td>\n",
       "      <td>96.000</td>\n",
       "      <td>&lt;div class=\"oiV-yk oqpuuD POAPqq\"&gt;&lt;span class=...</td>\n",
       "    </tr>\n",
       "    <tr>\n",
       "      <th>53</th>\n",
       "      <td>53</td>\n",
       "      <td>&lt;div class=\"_1yN94N WoKSjC _2KkMCe\"&gt;Tai Nghe C...</td>\n",
       "      <td>268.000</td>\n",
       "      <td>&lt;div class=\"oiV-yk oqpuuD POAPqq\"&gt;&lt;span class=...</td>\n",
       "    </tr>\n",
       "    <tr>\n",
       "      <th>54</th>\n",
       "      <td>54</td>\n",
       "      <td>&lt;div class=\"_1yN94N WoKSjC _2KkMCe\"&gt;[QR Code] ...</td>\n",
       "      <td>50.000</td>\n",
       "      <td>NaN</td>\n",
       "    </tr>\n",
       "    <tr>\n",
       "      <th>55</th>\n",
       "      <td>55</td>\n",
       "      <td>&lt;div class=\"_1yN94N WoKSjC _2KkMCe\"&gt;Loa Blueto...</td>\n",
       "      <td>99.000</td>\n",
       "      <td>&lt;div class=\"oiV-yk oqpuuD POAPqq\"&gt;&lt;span class=...</td>\n",
       "    </tr>\n",
       "    <tr>\n",
       "      <th>56</th>\n",
       "      <td>56</td>\n",
       "      <td>&lt;div class=\"_1yN94N WoKSjC _2KkMCe\"&gt;Bàn Phím C...</td>\n",
       "      <td>576.000</td>\n",
       "      <td>&lt;div class=\"oiV-yk oqpuuD POAPqq\"&gt;&lt;span class=...</td>\n",
       "    </tr>\n",
       "    <tr>\n",
       "      <th>57</th>\n",
       "      <td>57</td>\n",
       "      <td>&lt;div class=\"_1yN94N WoKSjC _2KkMCe\"&gt;Tai nghe n...</td>\n",
       "      <td>175.000</td>\n",
       "      <td>&lt;div class=\"oiV-yk oqpuuD POAPqq\"&gt;&lt;span class=...</td>\n",
       "    </tr>\n",
       "    <tr>\n",
       "      <th>58</th>\n",
       "      <td>58</td>\n",
       "      <td>&lt;div class=\"_1yN94N WoKSjC _2KkMCe\"&gt;Đầu chuyển...</td>\n",
       "      <td>59.000</td>\n",
       "      <td>&lt;div class=\"oiV-yk oqpuuD POAPqq\"&gt;&lt;span class=...</td>\n",
       "    </tr>\n",
       "    <tr>\n",
       "      <th>59</th>\n",
       "      <td>59</td>\n",
       "      <td>&lt;div class=\"_1yN94N WoKSjC _2KkMCe\"&gt;Loa Máy Tí...</td>\n",
       "      <td>35.000</td>\n",
       "      <td>NaN</td>\n",
       "    </tr>\n",
       "  </tbody>\n",
       "</table>\n",
       "</div>"
      ],
      "text/plain": [
       "    Unnamed: 0                                               name    price  \\\n",
       "0            0  <div class=\"_1yN94N WoKSjC _2KkMCe\">Loa blueto...   60.000   \n",
       "1            1  <div class=\"_1yN94N WoKSjC _2KkMCe\">Tai nghe b...  119.000   \n",
       "2            2  <div class=\"_1yN94N WoKSjC _2KkMCe\">Dầu Mỡ VCK...   26.868   \n",
       "3            3  <div class=\"_1yN94N WoKSjC _2KkMCe\">Bộ Mở Rộng...  179.000   \n",
       "4            4  <div class=\"_1yN94N WoKSjC _2KkMCe\">QKCASE - L...   13.900   \n",
       "5            5  <div class=\"_1yN94N WoKSjC _2KkMCe\">Tai nghe c...   85.000   \n",
       "6            6  <div class=\"_1yN94N WoKSjC _2KkMCe\">Switch phí...    2.500   \n",
       "7            7  <div class=\"_1yN94N WoKSjC _2KkMCe\">Miếng dán ...   50.000   \n",
       "8            8  <div class=\"_1yN94N WoKSjC _2KkMCe\">Loa blueto...   89.000   \n",
       "9            9  <div class=\"_1yN94N WoKSjC _2KkMCe\">Tai Nghe B...  125.000   \n",
       "10          10  <div class=\"_1yN94N WoKSjC _2KkMCe\">Chuột Logi...   15.000   \n",
       "11          11  <div class=\"_1yN94N WoKSjC _2KkMCe\">bộ phát wi...   20.000   \n",
       "12          12  <div class=\"_1yN94N WoKSjC _2KkMCe\">Loa xách t...   97.600   \n",
       "13          13  <div class=\"_1yN94N WoKSjC _2KkMCe\">Tai nghe b...   52.500   \n",
       "14          14  <div class=\"_1yN94N WoKSjC _2KkMCe\">[Chính hãn...    5.100   \n",
       "15          15  <div class=\"_1yN94N WoKSjC _2KkMCe\">Quạt Tản N...   36.666   \n",
       "16          16  <div class=\"_1yN94N WoKSjC _2KkMCe\">Mic Karaok...   15.000   \n",
       "17          17  <div class=\"_1yN94N WoKSjC _2KkMCe\">Tai nghe b...   99.000   \n",
       "18          18  <div class=\"_1yN94N WoKSjC _2KkMCe\">Chuột chơi...  124.000   \n",
       "19          19  <div class=\"_1yN94N WoKSjC _2KkMCe\">MICRO USB ...    8.000   \n",
       "20          20  <div class=\"_1yN94N WoKSjC _2KkMCe\">Loa blueto...  119.000   \n",
       "21          21  <div class=\"_1yN94N WoKSjC _2KkMCe\">Tai nghe B...   99.000   \n",
       "22          22  <div class=\"_1yN94N WoKSjC _2KkMCe\">Bộ bàn phí...   43.000   \n",
       "23          23  <div class=\"_1yN94N WoKSjC _2KkMCe\">Bộ phát wi...  100.000   \n",
       "24          24  <div class=\"_1yN94N WoKSjC _2KkMCe\">Loa Blueto...   68.000   \n",
       "25          25  <div class=\"_1yN94N WoKSjC _2KkMCe\">Tai Nghe M...   15.000   \n",
       "26          26  <div class=\"_1yN94N WoKSjC _2KkMCe\">Giá đỡ LAP...   29.000   \n",
       "27          27  <div class=\"_1yN94N WoKSjC _2KkMCe\">Bộ Bàn Phí...   25.000   \n",
       "28          28  <div class=\"_1yN94N WoKSjC _2KkMCe\">Loa blueto...   99.000   \n",
       "29          29  <div class=\"_1yN94N WoKSjC _2KkMCe\">Tai Nghe G...   20.000   \n",
       "30          30  <div class=\"_1yN94N WoKSjC _2KkMCe\">Combo Bộ V...   45.000   \n",
       "31          31  <div class=\"_1yN94N WoKSjC _2KkMCe\">USB 8GB 16...   52.000   \n",
       "32          32  <div class=\"_1yN94N WoKSjC _2KkMCe\">1 micro mi...   29.000   \n",
       "33          33  <div class=\"_1yN94N WoKSjC _2KkMCe\">Tws G01 Cổ...   13.600   \n",
       "34          34  <div class=\"_1yN94N WoKSjC _2KkMCe\">Bộ Chia 4 ...   43.000   \n",
       "35          35  <div class=\"_1yN94N WoKSjC _2KkMCe\">ổ cứng di ...   99.000   \n",
       "36          36  <div class=\"_1yN94N WoKSjC _2KkMCe\">Chuột máy ...    7.000   \n",
       "37          37  <div class=\"_1yN94N WoKSjC _2KkMCe\">Tai Nghe B...   28.850   \n",
       "38          38  <div class=\"_1yN94N WoKSjC _2KkMCe\">Phễu đổ mự...    3.000   \n",
       "39          39  <div class=\"_1yN94N WoKSjC _2KkMCe\">UGREEN USB...  169.000   \n",
       "40          40  <div class=\"_1yN94N WoKSjC _2KkMCe\">Bàn Phím M...  126.000   \n",
       "41          41  <div class=\"_1yN94N WoKSjC _2KkMCe\">Tai Nghe C...   50.000   \n",
       "42          42  <div class=\"_1yN94N WoKSjC _2KkMCe\">Túi đựng l...   70.000   \n",
       "43          43  <div class=\"_1yN94N WoKSjC _2KkMCe\">Loa Blueto...   89.500   \n",
       "44          44  <div class=\"_1yN94N WoKSjC _2KkMCe\">Chuột Blue...   61.500   \n",
       "45          45  <div class=\"_1yN94N WoKSjC _2KkMCe\">Tai Nghe C...   37.600   \n",
       "46          46  <div class=\"_1yN94N WoKSjC _2KkMCe\">Kệ để LAPT...   15.000   \n",
       "47          47  <div class=\"_1yN94N WoKSjC _2KkMCe\">Loa Blueto...  109.000   \n",
       "48          48  <div class=\"_1yN94N WoKSjC _2KkMCe\">Bộ bàn phí...   31.000   \n",
       "49          49  <div class=\"_1yN94N WoKSjC _2KkMCe\">Tai nghe k...  101.000   \n",
       "50          50  <div class=\"_1yN94N WoKSjC _2KkMCe\">Bàn học để...   67.000   \n",
       "51          51  <div class=\"_1yN94N WoKSjC _2KkMCe\">Loa blueto...   85.000   \n",
       "52          52  <div class=\"_1yN94N WoKSjC _2KkMCe\">Chuột khôn...   96.000   \n",
       "53          53  <div class=\"_1yN94N WoKSjC _2KkMCe\">Tai Nghe C...  268.000   \n",
       "54          54  <div class=\"_1yN94N WoKSjC _2KkMCe\">[QR Code] ...   50.000   \n",
       "55          55  <div class=\"_1yN94N WoKSjC _2KkMCe\">Loa Blueto...   99.000   \n",
       "56          56  <div class=\"_1yN94N WoKSjC _2KkMCe\">Bàn Phím C...  576.000   \n",
       "57          57  <div class=\"_1yN94N WoKSjC _2KkMCe\">Tai nghe n...  175.000   \n",
       "58          58  <div class=\"_1yN94N WoKSjC _2KkMCe\">Đầu chuyển...   59.000   \n",
       "59          59  <div class=\"_1yN94N WoKSjC _2KkMCe\">Loa Máy Tí...   35.000   \n",
       "\n",
       "                                             discount  \n",
       "0   <div class=\"oiV-yk oqpuuD POAPqq\"><span class=...  \n",
       "1   <div class=\"oiV-yk oqpuuD POAPqq\"><span class=...  \n",
       "2                                                 NaN  \n",
       "3                                                 NaN  \n",
       "4                                                 NaN  \n",
       "5   <div class=\"oiV-yk oqpuuD POAPqq\"><span class=...  \n",
       "6   <div class=\"oiV-yk oqpuuD POAPqq\"><span class=...  \n",
       "7   <div class=\"oiV-yk oqpuuD POAPqq\"><span class=...  \n",
       "8   <div class=\"oiV-yk oqpuuD POAPqq\"><span class=...  \n",
       "9   <div class=\"oiV-yk oqpuuD POAPqq\"><span class=...  \n",
       "10  <div class=\"oiV-yk oqpuuD POAPqq\"><span class=...  \n",
       "11                                                NaN  \n",
       "12  <div class=\"oiV-yk oqpuuD POAPqq\"><span class=...  \n",
       "13  <div class=\"oiV-yk oqpuuD POAPqq\"><span class=...  \n",
       "14  <div class=\"oiV-yk oqpuuD POAPqq\"><span class=...  \n",
       "15  <div class=\"oiV-yk oqpuuD POAPqq\"><span class=...  \n",
       "16  <div class=\"oiV-yk oqpuuD POAPqq\"><span class=...  \n",
       "17  <div class=\"oiV-yk oqpuuD POAPqq\"><span class=...  \n",
       "18  <div class=\"oiV-yk oqpuuD POAPqq\"><span class=...  \n",
       "19  <div class=\"oiV-yk oqpuuD POAPqq\"><span class=...  \n",
       "20  <div class=\"oiV-yk oqpuuD POAPqq\"><span class=...  \n",
       "21  <div class=\"oiV-yk oqpuuD POAPqq\"><span class=...  \n",
       "22  <div class=\"oiV-yk oqpuuD POAPqq\"><span class=...  \n",
       "23                                                NaN  \n",
       "24  <div class=\"oiV-yk oqpuuD POAPqq\"><span class=...  \n",
       "25  <div class=\"oiV-yk oqpuuD POAPqq\"><span class=...  \n",
       "26  <div class=\"oiV-yk oqpuuD POAPqq\"><span class=...  \n",
       "27  <div class=\"oiV-yk oqpuuD POAPqq\"><span class=...  \n",
       "28  <div class=\"oiV-yk oqpuuD POAPqq\"><span class=...  \n",
       "29  <div class=\"oiV-yk oqpuuD POAPqq\"><span class=...  \n",
       "30  <div class=\"oiV-yk oqpuuD POAPqq\"><span class=...  \n",
       "31  <div class=\"oiV-yk oqpuuD POAPqq\"><span class=...  \n",
       "32  <div class=\"oiV-yk oqpuuD POAPqq\"><span class=...  \n",
       "33  <div class=\"oiV-yk oqpuuD POAPqq\"><span class=...  \n",
       "34  <div class=\"oiV-yk oqpuuD POAPqq\"><span class=...  \n",
       "35  <div class=\"oiV-yk oqpuuD POAPqq\"><span class=...  \n",
       "36  <div class=\"oiV-yk oqpuuD POAPqq\"><span class=...  \n",
       "37  <div class=\"oiV-yk oqpuuD POAPqq\"><span class=...  \n",
       "38                                                NaN  \n",
       "39  <div class=\"oiV-yk oqpuuD POAPqq\"><span class=...  \n",
       "40  <div class=\"oiV-yk oqpuuD POAPqq\"><span class=...  \n",
       "41  <div class=\"oiV-yk oqpuuD POAPqq\"><span class=...  \n",
       "42  <div class=\"oiV-yk oqpuuD POAPqq\"><span class=...  \n",
       "43  <div class=\"oiV-yk oqpuuD POAPqq\"><span class=...  \n",
       "44  <div class=\"oiV-yk oqpuuD POAPqq\"><span class=...  \n",
       "45  <div class=\"oiV-yk oqpuuD POAPqq\"><span class=...  \n",
       "46                                                NaN  \n",
       "47                                                NaN  \n",
       "48  <div class=\"oiV-yk oqpuuD POAPqq\"><span class=...  \n",
       "49  <div class=\"oiV-yk oqpuuD POAPqq\"><span class=...  \n",
       "50  <div class=\"oiV-yk oqpuuD POAPqq\"><span class=...  \n",
       "51  <div class=\"oiV-yk oqpuuD POAPqq\"><span class=...  \n",
       "52  <div class=\"oiV-yk oqpuuD POAPqq\"><span class=...  \n",
       "53  <div class=\"oiV-yk oqpuuD POAPqq\"><span class=...  \n",
       "54                                                NaN  \n",
       "55  <div class=\"oiV-yk oqpuuD POAPqq\"><span class=...  \n",
       "56  <div class=\"oiV-yk oqpuuD POAPqq\"><span class=...  \n",
       "57  <div class=\"oiV-yk oqpuuD POAPqq\"><span class=...  \n",
       "58  <div class=\"oiV-yk oqpuuD POAPqq\"><span class=...  \n",
       "59                                                NaN  "
      ]
     },
     "execution_count": 65,
     "metadata": {},
     "output_type": "execute_result"
    }
   ],
   "source": [
    "def check(st):\n",
    "    st  = str(st)\n",
    "    st = float((st.split('<')[4]).split('>')[1])\n",
    "    return st\n",
    "\n",
    "# st = '<div class=\"cbl0HO MUmBjS\"><span class=\"UBgKW+\">₫</span><span class=\"du3pq0\">119.000</span></div>'\n",
    "df['price'] = df['price'].apply(lambda x: check(x))\n",
    "# df['price'] = df['price'].apply(lambda x: check(x))\n"
   ]
  },
  {
   "cell_type": "code",
   "execution_count": 68,
   "metadata": {},
   "outputs": [
    {
     "data": {
      "text/plain": [
       "'<div class=\"_1yN94N WoKSjC _2KkMCe\">Dầu Mỡ VCK Lube Switch/Stab | GPL 105/205G0 | Permatex XHT-BDZ | Krytox Gateron Akko Cherry Jwick KTT | VCK</div>'"
      ]
     },
     "execution_count": 68,
     "metadata": {},
     "output_type": "execute_result"
    }
   ],
   "source": [
    "st = df['name'][2]\n",
    "st"
   ]
  },
  {
   "cell_type": "code",
   "execution_count": null,
   "metadata": {},
   "outputs": [],
   "source": []
  }
 ],
 "metadata": {
  "kernelspec": {
   "display_name": "base",
   "language": "python",
   "name": "python3"
  },
  "language_info": {
   "codemirror_mode": {
    "name": "ipython",
    "version": 3
   },
   "file_extension": ".py",
   "mimetype": "text/x-python",
   "name": "python",
   "nbconvert_exporter": "python",
   "pygments_lexer": "ipython3",
   "version": "3.9.13"
  },
  "orig_nbformat": 4
 },
 "nbformat": 4,
 "nbformat_minor": 2
}
