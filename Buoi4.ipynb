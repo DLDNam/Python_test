{
 "cells": [
  {
   "cell_type": "code",
   "execution_count": null,
   "metadata": {},
   "outputs": [],
   "source": [
    "#ex1 \n",
    "n = int(input())\n",
    "if (n % 4 == 0 or n % 100 == 0 ) and (n % 100 == 0):\n",
    "    print(\"Nhuan\")\n",
    "else:\n",
    "    print(\"ko nhuan\")"
   ]
  },
  {
   "cell_type": "code",
   "execution_count": null,
   "metadata": {},
   "outputs": [],
   "source": [
    "#ex2 \n",
    "tk = input(\"enter username\")\n",
    "mk = input(\"enter password\")\n",
    "if (len(tk)>6 ) and (len(mk) > 8):\n",
    "    print(\"login successful\")\n",
    "else:\n",
    "    print(\"login failed\")"
   ]
  },
  {
   "cell_type": "code",
   "execution_count": null,
   "metadata": {},
   "outputs": [],
   "source": [
    "#ex3\n",
    "import math\n",
    "a = float(input())\n",
    "b = float(input())\n",
    "c = float(input())\n",
    "kt = True\n",
    "if (a+b<=c) or (a+c<=b) or (b + c <=a):\n",
    "    print (\"is not a triangle\")\n",
    "    kt = False\n",
    "elif  (a == b) and (a==c):\n",
    "    print(\"equilateral triangle\")\n",
    "elif (a==b) or (a==c) or (b==c):\n",
    "    print(\"Isosceles triangle\")\n",
    "else:\n",
    "    print(\"Scalene triangle\")\n",
    "if kt== True:\n",
    "    bk = (a+b+c)/2\n",
    "    s = math.sqrt(bk*(bk-a)*(bk-b)*(bk-c))\n",
    "    print(\"The area of ​​the triangle is\",s)"
   ]
  },
  {
   "cell_type": "code",
   "execution_count": null,
   "metadata": {},
   "outputs": [],
   "source": [
    "#ex4\n",
    "import math\n",
    "a = float(input())\n",
    "b = float(input())\n",
    "c = float(input())\n",
    "if (a+b<=c) or (a+c<=b) or (b + c <=a):\n",
    "    print (\"is not a triangle\")\n",
    "elif (a*a +b*b == c*c) or (a*a+c*c == b*b) or (b*b + c*c == a*a):\n",
    "    print(\"True\")\n",
    "else:\n",
    "    print(\"False\")"
   ]
  },
  {
   "cell_type": "code",
   "execution_count": null,
   "metadata": {},
   "outputs": [],
   "source": [
    "n = float(input(\"nhap so tien\"))\n",
    "m = float(input(\"nhap % lai \"))\n",
    "target = n*3\n",
    "count = 0\n",
    "while n <= target:\n",
    "    count += 1\n",
    "    n += (n/100)*m\n",
    "print(count)    "
   ]
  },
  {
   "cell_type": "code",
   "execution_count": null,
   "metadata": {},
   "outputs": [],
   "source": [
    "n = int(input())\n",
    "i = 0\n",
    "while i*i < n:\n",
    "    print(i*i,end=\" \")\n",
    "    i+=1\n"
   ]
  },
  {
   "cell_type": "code",
   "execution_count": null,
   "metadata": {},
   "outputs": [],
   "source": [
    "n = int(input())\n",
    "i = 10\n",
    "while i < n:\n",
    "    print(i,end=\" \")\n",
    "    i+=10 \n",
    "i = 1\n",
    "print()\n",
    "while i<n:\n",
    "    print(i,end = \" \")\n",
    "    i = i * 2"
   ]
  },
  {
   "cell_type": "code",
   "execution_count": null,
   "metadata": {},
   "outputs": [],
   "source": [
    "n = int(input())\n",
    "s = 0 \n",
    "while n!=0:\n",
    "    if (n % 10) % 2  == 1:\n",
    "        s+= n%10\n",
    "    n = n // 10\n",
    "print(s)"
   ]
  },
  {
   "cell_type": "code",
   "execution_count": 8,
   "metadata": {},
   "outputs": [
    {
     "name": "stdout",
     "output_type": "stream",
     "text": [
      "1 1 2 3 5 8 13 "
     ]
    }
   ],
   "source": [
    "n = int(input())\n",
    "a = 1 \n",
    "b = 1\n",
    "while (a <= n):\n",
    "    print(a,end=\" \")\n",
    "    a+=b\n",
    "    a, b = b , a \n"
   ]
  },
  {
   "cell_type": "code",
   "execution_count": 12,
   "metadata": {},
   "outputs": [
    {
     "name": "stdout",
     "output_type": "stream",
     "text": [
      "25\n",
      "2\n",
      "-4   7\n"
     ]
    }
   ],
   "source": [
    "s1= 0\n",
    "s2= 0\n",
    "s3 = 0 \n",
    "test = 0\n",
    "n = int(input()) \n",
    "while n != 0:\n",
    "    tam = n \n",
    "    n =int(input())\n",
    "    if n ==tam:\n",
    "        s3+=1 \n",
    "    if test == 0:\n",
    "        min = n \n",
    "        max = n \n",
    "    test = test + 1\n",
    "    s1 = s1 + n \n",
    "    if n < 0:\n",
    "        s2 += 1\n",
    "    if n > max:\n",
    "        max = n\n",
    "    if n < min:\n",
    "        min = n\n",
    "print(s1)\n",
    "print(s2)\n",
    "print(min,\" \",max)  \n",
    " "
   ]
  },
  {
   "cell_type": "code",
   "execution_count": 23,
   "metadata": {},
   "outputs": [
    {
     "name": "stdout",
     "output_type": "stream",
     "text": [
      "4\n",
      "dinh le Duc Nam"
     ]
    }
   ],
   "source": [
    "st = input()\n",
    "count = 0\n",
    "for i in st:\n",
    "    if i == \" \":\n",
    "        count+=1 \n",
    "print(count+1)\n",
    "c2= 0\n",
    "for i in st:\n",
    "    print(i,end=\"\")\n",
    "    if (i == \" \"):\n",
    "        c2+=1\n",
    "    if c2 == 1 or c2 == count -1:\n",
    "        print()\n",
    "    \n",
    "\n",
    "\n",
    "\n"
   ]
  }
 ],
 "metadata": {
  "kernelspec": {
   "display_name": "base",
   "language": "python",
   "name": "python3"
  },
  "language_info": {
   "codemirror_mode": {
    "name": "ipython",
    "version": 3
   },
   "file_extension": ".py",
   "mimetype": "text/x-python",
   "name": "python",
   "nbconvert_exporter": "python",
   "pygments_lexer": "ipython3",
   "version": "3.9.13"
  },
  "orig_nbformat": 4
 },
 "nbformat": 4,
 "nbformat_minor": 2
}
